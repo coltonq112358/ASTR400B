{
 "cells": [
  {
   "cell_type": "code",
   "execution_count": null,
   "id": "8297e6c7-afaa-4ba8-a04b-268c223872fc",
   "metadata": {},
   "outputs": [],
   "source": []
  }
 ],
 "metadata": {
  "kernelspec": {
   "display_name": "",
   "name": ""
  },
  "language_info": {
   "name": ""
  }
 },
 "nbformat": 4,
 "nbformat_minor": 5
}
