{
 "cells": [
  {
   "cell_type": "code",
   "execution_count": 1,
   "id": "8297e6c7-afaa-4ba8-a04b-268c223872fc",
   "metadata": {},
   "outputs": [],
   "source": [
    "# Import Libraries/Functions\n",
    "import numpy as np\n",
    "import astropy.units as u\n",
    "from ReadFile import Read\n",
    "from ParticleProperties import ParticleInfo"
   ]
  },
  {
   "cell_type": "code",
   "execution_count": 2,
   "id": "cb1a1297-e44f-4a81-a959-9cd54cb891db",
   "metadata": {},
   "outputs": [],
   "source": [
    "filename = \"MW_000.txt\" # Name of Simulation File"
   ]
  },
  {
   "cell_type": "markdown",
   "id": "da33a16b-5a19-4e73-b1b2-25eb826643b6",
   "metadata": {},
   "source": [
    "# Test that Read works"
   ]
  },
  {
   "cell_type": "code",
   "execution_count": 3,
   "id": "51df1a62-b269-46cf-abad-946320057ae7",
   "metadata": {},
   "outputs": [
    {
     "name": "stdout",
     "output_type": "stream",
     "text": [
      "0.0 Myr\n",
      "135000\n",
      "1.0\n"
     ]
    }
   ],
   "source": [
    "# Read the file and extract time, count, and data\n",
    "time, count, data = Read(filename)\n",
    "print(time)\n",
    "print(count)\n",
    "print(data['type'][1])"
   ]
  },
  {
   "cell_type": "markdown",
   "id": "fe5eea2d-6a74-4656-a9be-23c7075c939a",
   "metadata": {},
   "source": [
    "# Test that ParticleInfo Works"
   ]
  },
  {
   "cell_type": "code",
   "execution_count": 12,
   "id": "80826b35-3635-41ea-931b-f84f3899e15e",
   "metadata": {},
   "outputs": [
    {
     "name": "stdout",
     "output_type": "stream",
     "text": [
      "56.274 kpc, 144.123 km / s, 3.95e+07 solMass\n"
     ]
    }
   ],
   "source": [
    "# Find the distance, velocity, and mass of the first\n",
    "# Dark Matter particle\n",
    "dist, vel, mass = ParticleInfo(filename, 1, 0)\n",
    "print(f\"{dist}, {vel}, {mass:.2e}\")"
   ]
  },
  {
   "cell_type": "markdown",
   "id": "94d8fc12-b274-4c56-9a25-7376e5311523",
   "metadata": {},
   "source": [
    "# Question 5: Proof that My Code Works"
   ]
  },
  {
   "cell_type": "code",
   "execution_count": 5,
   "id": "1e5d20fe-f079-4753-8616-0839a3821c71",
   "metadata": {},
   "outputs": [
    {
     "name": "stdout",
     "output_type": "stream",
     "text": [
      "4.245 kpc, 312.135 km / s, 1.00e+06 solMass\n"
     ]
    }
   ],
   "source": [
    "# Find the distance, velocity, and mass of the 100th\n",
    "# Disk particle\n",
    "dist, vel, mass = ParticleInfo(filename, 2, 99)\n",
    "print(f\"{dist}, {vel}, {mass:.2e}\")"
   ]
  },
  {
   "cell_type": "code",
   "execution_count": 11,
   "id": "0cbea29a-c309-4cf3-a2d2-464d7b9910f4",
   "metadata": {},
   "outputs": [
    {
     "data": {
      "text/latex": [
       "$13845.338 \\; \\mathrm{lyr}$"
      ],
      "text/plain": [
       "<Quantity 13845.338 lyr>"
      ]
     },
     "execution_count": 11,
     "metadata": {},
     "output_type": "execute_result"
    }
   ],
   "source": [
    "# Convert the distance to light years\n",
    "dist_lyr = np.around(dist.to(u.lightyear), 3)\n",
    "dist_lyr"
   ]
  }
 ],
 "metadata": {
  "kernelspec": {
   "display_name": "Python 3 (ipykernel)",
   "language": "python",
   "name": "python3"
  },
  "language_info": {
   "codemirror_mode": {
    "name": "ipython",
    "version": 3
   },
   "file_extension": ".py",
   "mimetype": "text/x-python",
   "name": "python",
   "nbconvert_exporter": "python",
   "pygments_lexer": "ipython3",
   "version": "3.13.1"
  }
 },
 "nbformat": 4,
 "nbformat_minor": 5
}
