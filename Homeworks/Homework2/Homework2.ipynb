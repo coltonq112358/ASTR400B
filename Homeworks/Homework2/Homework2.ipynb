{
 "cells": [
  {
   "cell_type": "code",
   "execution_count": 3,
   "id": "8297e6c7-afaa-4ba8-a04b-268c223872fc",
   "metadata": {},
   "outputs": [],
   "source": [
    "# Import Libraries/Functions\n",
    "import numpy as np\n",
    "import astropy.units as u\n",
    "from ReadFile import Read\n",
    "from ParticleProperties import ParticleInfo"
   ]
  },
  {
   "cell_type": "code",
   "execution_count": 4,
   "id": "cb1a1297-e44f-4a81-a959-9cd54cb891db",
   "metadata": {},
   "outputs": [],
   "source": [
    "filename = \"MW_000.txt\""
   ]
  },
  {
   "cell_type": "markdown",
   "id": "da33a16b-5a19-4e73-b1b2-25eb826643b6",
   "metadata": {},
   "source": [
    "# Test that Read works"
   ]
  },
  {
   "cell_type": "code",
   "execution_count": 6,
   "id": "51df1a62-b269-46cf-abad-946320057ae7",
   "metadata": {},
   "outputs": [
    {
     "name": "stdout",
     "output_type": "stream",
     "text": [
      "0.0 Myr\n",
      "135000\n",
      "1.0\n"
     ]
    }
   ],
   "source": [
    "time, count, data = Read(filename)\n",
    "print(time)\n",
    "print(count)\n",
    "print(data['type'][1])"
   ]
  },
  {
   "cell_type": "markdown",
   "id": "fe5eea2d-6a74-4656-a9be-23c7075c939a",
   "metadata": {},
   "source": [
    "# Test that ParticleInfo Works"
   ]
  },
  {
   "cell_type": "code",
   "execution_count": 7,
   "id": "80826b35-3635-41ea-931b-f84f3899e15e",
   "metadata": {},
   "outputs": [
    {
     "name": "stdout",
     "output_type": "stream",
     "text": [
      "56.274458085729265 kpc 144.12299668193637 km / s 0.00394985 solMass\n"
     ]
    }
   ],
   "source": [
    "dist, vel, mass = ParticleInfo(filename, 1, 0)\n",
    "print(dist, vel, mass)"
   ]
  },
  {
   "cell_type": "markdown",
   "id": "94d8fc12-b274-4c56-9a25-7376e5311523",
   "metadata": {},
   "source": [
    "# Question 5: Proof that My Code Works"
   ]
  },
  {
   "cell_type": "code",
   "execution_count": 8,
   "id": "1e5d20fe-f079-4753-8616-0839a3821c71",
   "metadata": {},
   "outputs": [
    {
     "name": "stdout",
     "output_type": "stream",
     "text": [
      "4.244847870407136 kpc\n",
      "312.1354934017277 km / s\n",
      "0.0001 solMass\n"
     ]
    }
   ],
   "source": [
    "dist, vel, mass = ParticleInfo(filename, 2, 99)\n",
    "print(dist)\n",
    "print(vel)\n",
    "print(mass)"
   ]
  },
  {
   "cell_type": "code",
   "execution_count": 9,
   "id": "0cbea29a-c309-4cf3-a2d2-464d7b9910f4",
   "metadata": {},
   "outputs": [
    {
     "name": "stdout",
     "output_type": "stream",
     "text": [
      "4.244847870407136 kpc 13844.842053706232 lyr\n"
     ]
    }
   ],
   "source": [
    "dist_lyr = dist.to(u.lightyear)\n",
    "print(dist, dist_lyr)"
   ]
  }
 ],
 "metadata": {
  "kernelspec": {
   "display_name": "Python 3 (ipykernel)",
   "language": "python",
   "name": "python3"
  },
  "language_info": {
   "codemirror_mode": {
    "name": "ipython",
    "version": 3
   },
   "file_extension": ".py",
   "mimetype": "text/x-python",
   "name": "python",
   "nbconvert_exporter": "python",
   "pygments_lexer": "ipython3",
   "version": "3.11.8"
  }
 },
 "nbformat": 4,
 "nbformat_minor": 5
}
