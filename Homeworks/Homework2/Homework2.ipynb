{
 "cells": [
  {
   "cell_type": "code",
   "execution_count": 3,
   "id": "8297e6c7-afaa-4ba8-a04b-268c223872fc",
   "metadata": {},
   "outputs": [],
   "source": [
    "import numpy as np\n",
    "import astropy.units as u\n",
    "from ReadFile import Read\n",
    "from ParticleProperties import ParticleInfo"
   ]
  },
  {
   "cell_type": "code",
   "execution_count": 4,
   "id": "1e5d20fe-f079-4753-8616-0839a3821c71",
   "metadata": {},
   "outputs": [
    {
     "ename": "TypeError",
     "evalue": "tuple indices must be integers or slices, not str",
     "output_type": "error",
     "traceback": [
      "\u001b[1;31m---------------------------------------------------------------------------\u001b[0m",
      "\u001b[1;31mTypeError\u001b[0m                                 Traceback (most recent call last)",
      "Cell \u001b[1;32mIn[4], line 2\u001b[0m\n\u001b[0;32m      1\u001b[0m filename \u001b[38;5;241m=\u001b[39m \u001b[38;5;124m\"\u001b[39m\u001b[38;5;124mMW_000.txt\u001b[39m\u001b[38;5;124m\"\u001b[39m\n\u001b[1;32m----> 2\u001b[0m dist, vel, mass \u001b[38;5;241m=\u001b[39m \u001b[43mParticleInfo\u001b[49m\u001b[43m(\u001b[49m\u001b[43mfilename\u001b[49m\u001b[43m,\u001b[49m\u001b[43m \u001b[49m\u001b[38;5;241;43m2\u001b[39;49m\u001b[43m,\u001b[49m\u001b[43m \u001b[49m\u001b[38;5;241;43m99\u001b[39;49m\u001b[43m)\u001b[49m\n\u001b[0;32m      3\u001b[0m \u001b[38;5;28mprint\u001b[39m(dist)\n\u001b[0;32m      4\u001b[0m \u001b[38;5;28mprint\u001b[39m(vel)\n",
      "File \u001b[1;32m~\\OneDrive\\Desktop\\ASTR400B\\Homeworks\\Homework2\\ParticleProperties.py:12\u001b[0m, in \u001b[0;36mParticleInfo\u001b[1;34m(filename, particle_type, particle_num)\u001b[0m\n\u001b[0;32m      8\u001b[0m particle_num \u001b[38;5;241m=\u001b[39m \u001b[38;5;28mint\u001b[39m(particle_num)\n\u001b[0;32m     10\u001b[0m type_data \u001b[38;5;241m=\u001b[39m np\u001b[38;5;241m.\u001b[39mwhere(data[\u001b[38;5;124m'\u001b[39m\u001b[38;5;124mtype\u001b[39m\u001b[38;5;124m'\u001b[39m] \u001b[38;5;241m==\u001b[39m particle_type)\n\u001b[1;32m---> 12\u001b[0m x \u001b[38;5;241m=\u001b[39m \u001b[43mtype_data\u001b[49m\u001b[43m[\u001b[49m\u001b[38;5;124;43m'\u001b[39;49m\u001b[38;5;124;43mx\u001b[39;49m\u001b[38;5;124;43m'\u001b[39;49m\u001b[43m]\u001b[49m[particle_num]\n\u001b[0;32m     13\u001b[0m y \u001b[38;5;241m=\u001b[39m type_ddata[\u001b[38;5;124m'\u001b[39m\u001b[38;5;124my\u001b[39m\u001b[38;5;124m'\u001b[39m][particle_num]\n\u001b[0;32m     14\u001b[0m z \u001b[38;5;241m=\u001b[39m type_ddata[\u001b[38;5;124m'\u001b[39m\u001b[38;5;124mz\u001b[39m\u001b[38;5;124m'\u001b[39m][particle_num]\n",
      "\u001b[1;31mTypeError\u001b[0m: tuple indices must be integers or slices, not str"
     ]
    }
   ],
   "source": [
    "filename = \"MW_000.txt\"\n",
    "dist, vel, mass = ParticleInfo(filename, 2, 99)\n",
    "print(dist)\n",
    "print(vel)\n",
    "print(mass)"
   ]
  },
  {
   "cell_type": "code",
   "execution_count": null,
   "id": "35ab9f31-9a6d-4183-aa3d-00586476bbe3",
   "metadata": {},
   "outputs": [],
   "source": []
  }
 ],
 "metadata": {
  "kernelspec": {
   "display_name": "Python 3 (ipykernel)",
   "language": "python",
   "name": "python3"
  },
  "language_info": {
   "codemirror_mode": {
    "name": "ipython",
    "version": 3
   },
   "file_extension": ".py",
   "mimetype": "text/x-python",
   "name": "python",
   "nbconvert_exporter": "python",
   "pygments_lexer": "ipython3",
   "version": "3.11.8"
  }
 },
 "nbformat": 4,
 "nbformat_minor": 5
}
