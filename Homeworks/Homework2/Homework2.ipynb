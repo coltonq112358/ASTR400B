{
 "cells": [
  {
   "cell_type": "code",
   "execution_count": 1,
   "id": "8297e6c7-afaa-4ba8-a04b-268c223872fc",
   "metadata": {},
   "outputs": [],
   "source": [
    "import numpy as np\n",
    "import astropy.units as u\n",
    "from ReadFile import Read\n",
    "from ParticleProperties import ParticleInfo"
   ]
  },
  {
   "cell_type": "code",
   "execution_count": 2,
   "id": "1e5d20fe-f079-4753-8616-0839a3821c71",
   "metadata": {},
   "outputs": [],
   "source": [
    "filename = \"MW_000.txt\"\n",
    "dist, vel, mass = ParticleInfo(filename, 2, 99)"
   ]
  }
 ],
 "metadata": {
  "kernelspec": {
   "display_name": "Python 3 (ipykernel)",
   "language": "python",
   "name": "python3"
  },
  "language_info": {
   "codemirror_mode": {
    "name": "ipython",
    "version": 3
   },
   "file_extension": ".py",
   "mimetype": "text/x-python",
   "name": "python",
   "nbconvert_exporter": "python",
   "pygments_lexer": "ipython3",
   "version": "3.11.8"
  }
 },
 "nbformat": 4,
 "nbformat_minor": 5
}
