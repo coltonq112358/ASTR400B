{
 "cells": [
  {
   "cell_type": "code",
   "execution_count": 23,
   "id": "db7f1602-2d65-4a69-84c9-eaed55f7685a",
   "metadata": {},
   "outputs": [],
   "source": [
    "# Import Libraries\n",
    "from GalaxyMass import ComponentMass\n",
    "import astropy.units as u\n",
    "from astropy.table import Table\n",
    "import numpy as np\n",
    "import pandas as pd"
   ]
  },
  {
   "cell_type": "markdown",
   "id": "a106181b-0e1b-499b-9307-4bf94df0e4f5",
   "metadata": {},
   "source": [
    "# Milky Way Galaxy"
   ]
  },
  {
   "cell_type": "code",
   "execution_count": 25,
   "id": "f9c0e25a-1b09-482c-b927-53b1d12eeb57",
   "metadata": {},
   "outputs": [],
   "source": [
    "# Read in the data for the Milky Way Galaxy at Snap Number 0\n",
    "file = \"MW_000.txt\"\n",
    "\n",
    "# Get the mass for the Dark Matter Halo\n",
    "MW_Halo_Mass = ComponentMass(file, 1.0)\n",
    "\n",
    "# Get the mass for the Disk Stars\n",
    "MW_Disk_Mass = ComponentMass(file, 2.0)\n",
    "\n",
    "# Get the mass for the Bulge Stars\n",
    "MW_Bulge_Mass = ComponentMass(file, 3.0)\n",
    "\n",
    "# Get the total mass of the Milky Way Galaxy\n",
    "MW_Total_Mass = MW_Bulge_Mass + MW_Disk_Mass + MW_Halo_Mass\n",
    "\n",
    "# Calculate f_bar for the Milky Way\n",
    "MW_f_bar = np.round((MW_Bulge_Mass + MW_Disk_Mass)/MW_Total_Mass, 3)"
   ]
  },
  {
   "cell_type": "markdown",
   "id": "a8f3c30e-a459-46ab-bff4-369ea8022e02",
   "metadata": {},
   "source": [
    "# M31"
   ]
  },
  {
   "cell_type": "code",
   "execution_count": 26,
   "id": "84bb1f27-cabb-496f-a84c-406a97d4d062",
   "metadata": {},
   "outputs": [],
   "source": [
    "# Read in the data for the Andromeda Galaxy at Snap Number 0\n",
    "file = \"M31_000.txt\"\n",
    "\n",
    "# Get the mass for the Dark Matter Halo\n",
    "M31_Halo_Mass = ComponentMass(file, 1.0)\n",
    "\n",
    "# Get the mass for the Disk Stars\n",
    "M31_Disk_Mass = ComponentMass(file, 2.0)\n",
    "\n",
    "# Get the mass for the Bulge Stars\n",
    "M31_Bulge_Mass = ComponentMass(file, 3.0)\n",
    "\n",
    "# Calculate the total mass of Andromeda\n",
    "M31_Total_Mass = M31_Bulge_Mass + M31_Disk_Mass + M31_Halo_Mass\n",
    "\n",
    "# Calculate f_bar for Andromeda\n",
    "M31_f_bar = np.round((M31_Bulge_Mass + M31_Disk_Mass)/M31_Total_Mass, 3)"
   ]
  },
  {
   "cell_type": "markdown",
   "id": "a035b7da-1cc2-4f12-8321-dba0bfccb5c8",
   "metadata": {},
   "source": [
    "# M33"
   ]
  },
  {
   "cell_type": "code",
   "execution_count": 27,
   "id": "e768b43b-659e-4f6f-bd35-5cd4d33c6ab0",
   "metadata": {},
   "outputs": [],
   "source": [
    "# Read in the data for M33 at Snap Number 0\n",
    "file = \"M33_000.txt\"\n",
    "\n",
    "# Get the mass of the Dark Matter Halo\n",
    "M33_Halo_Mass = ComponentMass(file, 1.0)\n",
    "\n",
    "# Get the mass of the Disk Stars\n",
    "M33_Disk_Mass = ComponentMass(file, 2.0)\n",
    "\n",
    "# Get the mass of the Bulge Stars\n",
    "M33_Bulge_Mass = ComponentMass(file, 3.0)\n",
    "\n",
    "# Get the total mass of M33\n",
    "M33_Total_Mass = M33_Bulge_Mass + M33_Disk_Mass + M33_Halo_Mass\n",
    "\n",
    "# Calculate f_bar for M33\n",
    "M33_f_bar = np.round((M33_Bulge_Mass + M33_Disk_Mass)/M33_Total_Mass, 3)"
   ]
  },
  {
   "cell_type": "markdown",
   "id": "05107914-3178-4d62-a7a2-100731d6b8eb",
   "metadata": {},
   "source": [
    "# Local Group Table"
   ]
  },
  {
   "cell_type": "code",
   "execution_count": 29,
   "id": "e7866096-82cf-4eb1-a69e-9e4b1b396da8",
   "metadata": {},
   "outputs": [],
   "source": [
    "data = {\"Galaxy Name\" : [\"Milky Way\", \"M31\", \"M33\", \"Local Group\"],\n",
    "        \"Halo Mass\" : np.array([MW_Halo_Mass, M31_Halo_Mass, M33_Halo_Mass, MW_Halo_Mass+M31_Halo_Mass+M33_Halo_Mass]), # * u.Msun * 1e12 \n",
    "        \"Disk Mass\" : np.array([MW_Disk_Mass, M31_Disk_Mass, M33_Disk_Mass, MW_Disk_Mass+M31_Disk_Mass+M33_Disk_Mass]), # * u.Msun * 1e12 \n",
    "        \"Bulge Mass\" : np.array([MW_Bulge_Mass, M31_Bulge_Mass, M33_Bulge_Mass, MW_Bulge_Mass+M31_Bulge_Mass+M33_Bulge_Mass]), # * u.Msun * 1e12\n",
    "}\n",
    "\n",
    "data[\"Total Mass\"] = data[\"Halo Mass\"] + data[\"Disk Mass\"] + data[\"Bulge Mass\"]\n",
    "data[\"f_bar\"] = np.round((data[\"Disk Mass\"] + data[\"Bulge Mass\"])/data[\"Total Mass\"], 3)"
   ]
  },
  {
   "cell_type": "code",
   "execution_count": 30,
   "id": "1189b760-e97d-4fcb-bc34-27bc3fbc2fe3",
   "metadata": {},
   "outputs": [],
   "source": [
    "df = pd.DataFrame(data)"
   ]
  },
  {
   "cell_type": "code",
   "execution_count": 31,
   "id": "809620d1-4c44-4558-8473-4a519b5e53a9",
   "metadata": {},
   "outputs": [
    {
     "data": {
      "text/html": [
       "<div>\n",
       "<style scoped>\n",
       "    .dataframe tbody tr th:only-of-type {\n",
       "        vertical-align: middle;\n",
       "    }\n",
       "\n",
       "    .dataframe tbody tr th {\n",
       "        vertical-align: top;\n",
       "    }\n",
       "\n",
       "    .dataframe thead th {\n",
       "        text-align: right;\n",
       "    }\n",
       "</style>\n",
       "<table border=\"1\" class=\"dataframe\">\n",
       "  <thead>\n",
       "    <tr style=\"text-align: right;\">\n",
       "      <th></th>\n",
       "      <th>Galaxy Name</th>\n",
       "      <th>Halo Mass</th>\n",
       "      <th>Disk Mass</th>\n",
       "      <th>Bulge Mass</th>\n",
       "      <th>Total Mass</th>\n",
       "      <th>f_bar</th>\n",
       "    </tr>\n",
       "  </thead>\n",
       "  <tbody>\n",
       "    <tr>\n",
       "      <th>0</th>\n",
       "      <td>Milky Way</td>\n",
       "      <td>1.975</td>\n",
       "      <td>0.075</td>\n",
       "      <td>0.010</td>\n",
       "      <td>2.060</td>\n",
       "      <td>0.041</td>\n",
       "    </tr>\n",
       "    <tr>\n",
       "      <th>1</th>\n",
       "      <td>M31</td>\n",
       "      <td>1.921</td>\n",
       "      <td>0.120</td>\n",
       "      <td>0.019</td>\n",
       "      <td>2.060</td>\n",
       "      <td>0.067</td>\n",
       "    </tr>\n",
       "    <tr>\n",
       "      <th>2</th>\n",
       "      <td>M33</td>\n",
       "      <td>0.187</td>\n",
       "      <td>0.009</td>\n",
       "      <td>0.000</td>\n",
       "      <td>0.196</td>\n",
       "      <td>0.046</td>\n",
       "    </tr>\n",
       "    <tr>\n",
       "      <th>3</th>\n",
       "      <td>Local Group</td>\n",
       "      <td>4.083</td>\n",
       "      <td>0.204</td>\n",
       "      <td>0.029</td>\n",
       "      <td>4.316</td>\n",
       "      <td>0.054</td>\n",
       "    </tr>\n",
       "  </tbody>\n",
       "</table>\n",
       "</div>"
      ],
      "text/plain": [
       "   Galaxy Name  Halo Mass  Disk Mass  Bulge Mass  Total Mass  f_bar\n",
       "0    Milky Way      1.975      0.075       0.010       2.060  0.041\n",
       "1          M31      1.921      0.120       0.019       2.060  0.067\n",
       "2          M33      0.187      0.009       0.000       0.196  0.046\n",
       "3  Local Group      4.083      0.204       0.029       4.316  0.054"
      ]
     },
     "execution_count": 31,
     "metadata": {},
     "output_type": "execute_result"
    }
   ],
   "source": [
    "df"
   ]
  },
  {
   "cell_type": "code",
   "execution_count": 33,
   "id": "a9895530-d878-4fb9-b518-978eb1f21b31",
   "metadata": {},
   "outputs": [],
   "source": [
    "df.to_latex(\"table.tex\", index=False)"
   ]
  },
  {
   "cell_type": "markdown",
   "id": "491ab70c-bc92-47ea-993b-b825f759ac23",
   "metadata": {},
   "source": [
    "# Questions"
   ]
  },
  {
   "cell_type": "markdown",
   "id": "ef728f67-32ca-4c15-be1f-97a0895af5ac",
   "metadata": {},
   "source": [
    "1. How does the total mass of the MW and M31 compare in this simulation? What galaxy component dominates this total mass?\n",
    "\n",
    "   The total mass of the MW and M31 are essentially the same in this simulation, $2.06\\times10^{12}M_{\\odot}$. For both galaxies, and for their total masses, the mass is dominated by the Dark Matter Halo Mass.\n",
    "\n",
    "2. How does the stellar mass of the MW and M31 compare? Which galaxy do you expect to be more luminous?\n",
    "\n",
    "    M31 has much more stellar mass than the MW, approximately $0.139\\times10^{12}M_{\\odot}$ for M31 versus $0.085\\times10^{12}M_{\\odot}$. I would expect M31 to be more luminous.\n",
    "\n",
    "3. How does the total dark matter mass of MW and M31 compare in this simulation (ratio)? Is this surprising, given their difference in stellar mass?\n",
    "\n",
    "    \n",
    "    \n",
    "4. What is the ratio of stellar mass to total mass for each galaxy (i.e. the Baryon function)? In the Universe, $\\Omega_b/\\Omega_m\\sim16\\%$ of all mass is locked up in baryons (gas & stars) vs. dark matter. How does this ratio compare to the baryon fraction you computed for each galaxy? Given that the total gas mass in the disks of these galaxies is negligible compared to the stellar mass, any ideas for why the universal baryon fraction might differ from that in these galaxies?\n",
    "\n"
   ]
  }
 ],
 "metadata": {
  "kernelspec": {
   "display_name": "Python 3 (ipykernel)",
   "language": "python",
   "name": "python3"
  },
  "language_info": {
   "codemirror_mode": {
    "name": "ipython",
    "version": 3
   },
   "file_extension": ".py",
   "mimetype": "text/x-python",
   "name": "python",
   "nbconvert_exporter": "python",
   "pygments_lexer": "ipython3",
   "version": "3.13.2"
  }
 },
 "nbformat": 4,
 "nbformat_minor": 5
}
