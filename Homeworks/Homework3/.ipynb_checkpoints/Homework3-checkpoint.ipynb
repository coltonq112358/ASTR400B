{
 "cells": [
  {
   "cell_type": "code",
   "execution_count": 1,
   "id": "db7f1602-2d65-4a69-84c9-eaed55f7685a",
   "metadata": {},
   "outputs": [],
   "source": [
    "from GalaxyMass import ComponentMass"
   ]
  },
  {
   "cell_type": "markdown",
   "id": "a106181b-0e1b-499b-9307-4bf94df0e4f5",
   "metadata": {},
   "source": [
    "# Milky Way Galaxy"
   ]
  },
  {
   "cell_type": "code",
   "execution_count": 4,
   "id": "f9c0e25a-1b09-482c-b927-53b1d12eeb57",
   "metadata": {},
   "outputs": [],
   "source": [
    "file = \"MW_000.txt\"\n",
    "MW_Halo_Mass = ComponentMass(file, 1.0)\n",
    "MW_Disk_Mass = ComponentMass(file, 2.0)\n",
    "MW_Bulge_Mass = ComponentMass(file, 3.0)"
   ]
  },
  {
   "cell_type": "code",
   "execution_count": 6,
   "id": "580ebeef-2261-4c6c-a066-b8e38bbec4aa",
   "metadata": {},
   "outputs": [
    {
     "data": {
      "text/plain": [
       "np.float64(1.0004999999999997)"
      ]
     },
     "execution_count": 6,
     "metadata": {},
     "output_type": "execute_result"
    }
   ],
   "source": [
    "MW_Bulge_Mass"
   ]
  },
  {
   "cell_type": "markdown",
   "id": "a8f3c30e-a459-46ab-bff4-369ea8022e02",
   "metadata": {},
   "source": [
    "# M31"
   ]
  },
  {
   "cell_type": "code",
   "execution_count": 7,
   "id": "84bb1f27-cabb-496f-a84c-406a97d4d062",
   "metadata": {},
   "outputs": [],
   "source": [
    "file = \"M31_000.txt\"\n",
    "M31_Halo_Mass = ComponentMass(file, 1.0)\n",
    "M31_Disk_Mass = ComponentMass(file, 2.0)\n",
    "M31_Bulge_Mass = ComponentMass(file, 3.0)"
   ]
  },
  {
   "cell_type": "markdown",
   "id": "a035b7da-1cc2-4f12-8321-dba0bfccb5c8",
   "metadata": {},
   "source": [
    "# M33"
   ]
  },
  {
   "cell_type": "code",
   "execution_count": 8,
   "id": "e768b43b-659e-4f6f-bd35-5cd4d33c6ab0",
   "metadata": {},
   "outputs": [],
   "source": [
    "file = \"M33_000.txt\"\n",
    "M33_Halo_Mass = ComponentMass(file, 1.0)\n",
    "M33_Disk_Mass = ComponentMass(file, 2.0)\n",
    "M33_Bulge_Mass = ComponentMass(file, 3.0)"
   ]
  }
 ],
 "metadata": {
  "kernelspec": {
   "display_name": "Python 3 (ipykernel)",
   "language": "python",
   "name": "python3"
  },
  "language_info": {
   "codemirror_mode": {
    "name": "ipython",
    "version": 3
   },
   "file_extension": ".py",
   "mimetype": "text/x-python",
   "name": "python",
   "nbconvert_exporter": "python",
   "pygments_lexer": "ipython3",
   "version": "3.13.1"
  }
 },
 "nbformat": 4,
 "nbformat_minor": 5
}
