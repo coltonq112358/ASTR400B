{
 "cells": [
  {
   "cell_type": "code",
   "execution_count": 24,
   "id": "db7f1602-2d65-4a69-84c9-eaed55f7685a",
   "metadata": {},
   "outputs": [],
   "source": [
    "from GalaxyMass import ComponentMass\n",
    "import astropy.units as u\n",
    "from astropy.table import Table\n",
    "import numpy as np\n",
    "import pandas as pd"
   ]
  },
  {
   "cell_type": "markdown",
   "id": "a106181b-0e1b-499b-9307-4bf94df0e4f5",
   "metadata": {},
   "source": [
    "# Milky Way Galaxy"
   ]
  },
  {
   "cell_type": "code",
   "execution_count": 2,
   "id": "f9c0e25a-1b09-482c-b927-53b1d12eeb57",
   "metadata": {},
   "outputs": [],
   "source": [
    "file = \"MW_000.txt\"\n",
    "MW_Halo_Mass = ComponentMass(file, 1.0)\n",
    "MW_Disk_Mass = ComponentMass(file, 2.0)\n",
    "MW_Bulge_Mass = ComponentMass(file, 3.0)"
   ]
  },
  {
   "cell_type": "code",
   "execution_count": 3,
   "id": "580ebeef-2261-4c6c-a066-b8e38bbec4aa",
   "metadata": {},
   "outputs": [
    {
     "name": "stdout",
     "output_type": "stream",
     "text": [
      "1.975\n",
      "0.075\n",
      "0.01\n"
     ]
    }
   ],
   "source": [
    "print(MW_Halo_Mass)\n",
    "print(MW_Disk_Mass)\n",
    "print(MW_Bulge_Mass)"
   ]
  },
  {
   "cell_type": "code",
   "execution_count": 4,
   "id": "0839b346-d620-47e4-aa13-55b307008089",
   "metadata": {},
   "outputs": [
    {
     "name": "stdout",
     "output_type": "stream",
     "text": [
      "2.06\n"
     ]
    }
   ],
   "source": [
    "MW_Total_Mass = MW_Bulge_Mass + MW_Disk_Mass + MW_Halo_Mass\n",
    "print(MW_Total_Mass)"
   ]
  },
  {
   "cell_type": "code",
   "execution_count": 5,
   "id": "bd44b06e-942f-4969-bdab-7dba360beda4",
   "metadata": {},
   "outputs": [
    {
     "name": "stdout",
     "output_type": "stream",
     "text": [
      "0.041\n"
     ]
    }
   ],
   "source": [
    "MW_f_bar = np.round((MW_Bulge_Mass + MW_Disk_Mass)/MW_Total_Mass, 3)\n",
    "print(MW_f_bar)"
   ]
  },
  {
   "cell_type": "markdown",
   "id": "a8f3c30e-a459-46ab-bff4-369ea8022e02",
   "metadata": {},
   "source": [
    "# M31"
   ]
  },
  {
   "cell_type": "code",
   "execution_count": 7,
   "id": "84bb1f27-cabb-496f-a84c-406a97d4d062",
   "metadata": {},
   "outputs": [],
   "source": [
    "file = \"M31_000.txt\"\n",
    "M31_Halo_Mass = ComponentMass(file, 1.0)\n",
    "M31_Disk_Mass = ComponentMass(file, 2.0)\n",
    "M31_Bulge_Mass = ComponentMass(file, 3.0)"
   ]
  },
  {
   "cell_type": "code",
   "execution_count": 8,
   "id": "ef925943-2fd7-4ee2-84cf-ef09e84e5281",
   "metadata": {},
   "outputs": [
    {
     "name": "stdout",
     "output_type": "stream",
     "text": [
      "1.921\n",
      "0.12\n",
      "0.019\n"
     ]
    }
   ],
   "source": [
    "print(M31_Halo_Mass)\n",
    "print(M31_Disk_Mass)\n",
    "print(M31_Bulge_Mass)"
   ]
  },
  {
   "cell_type": "code",
   "execution_count": 9,
   "id": "8d2ef522-4f21-461b-8e2c-dc222bb2b040",
   "metadata": {},
   "outputs": [
    {
     "name": "stdout",
     "output_type": "stream",
     "text": [
      "2.06\n"
     ]
    }
   ],
   "source": [
    "M31_Total_Mass = M31_Bulge_Mass + M31_Disk_Mass + M31_Halo_Mass\n",
    "print(M31_Total_Mass)"
   ]
  },
  {
   "cell_type": "code",
   "execution_count": 10,
   "id": "0b4d6087-8ade-48d6-bff0-786fd8b1af1f",
   "metadata": {},
   "outputs": [
    {
     "name": "stdout",
     "output_type": "stream",
     "text": [
      "0.067\n"
     ]
    }
   ],
   "source": [
    "M31_f_bar = np.round((M31_Bulge_Mass + M31_Disk_Mass)/M31_Total_Mass, 3)\n",
    "print(M31_f_bar)"
   ]
  },
  {
   "cell_type": "markdown",
   "id": "a035b7da-1cc2-4f12-8321-dba0bfccb5c8",
   "metadata": {},
   "source": [
    "# M33"
   ]
  },
  {
   "cell_type": "code",
   "execution_count": 12,
   "id": "e768b43b-659e-4f6f-bd35-5cd4d33c6ab0",
   "metadata": {},
   "outputs": [],
   "source": [
    "file = \"M33_000.txt\"\n",
    "M33_Halo_Mass = ComponentMass(file, 1.0)\n",
    "M33_Disk_Mass = ComponentMass(file, 2.0)\n",
    "M33_Bulge_Mass = ComponentMass(file, 3.0)"
   ]
  },
  {
   "cell_type": "code",
   "execution_count": 13,
   "id": "e1dd9429-6ffd-45f7-bf73-9dd39a2d0021",
   "metadata": {},
   "outputs": [
    {
     "name": "stdout",
     "output_type": "stream",
     "text": [
      "0.187\n",
      "0.009\n",
      "0.0\n"
     ]
    }
   ],
   "source": [
    "print(M33_Halo_Mass)\n",
    "print(M33_Disk_Mass)\n",
    "print(M33_Bulge_Mass)"
   ]
  },
  {
   "cell_type": "code",
   "execution_count": 14,
   "id": "ebcf7d42-72a1-422c-b598-5f592bab9ec9",
   "metadata": {},
   "outputs": [
    {
     "name": "stdout",
     "output_type": "stream",
     "text": [
      "0.196\n"
     ]
    }
   ],
   "source": [
    "M33_Total_Mass = M33_Bulge_Mass + M33_Disk_Mass + M33_Halo_Mass\n",
    "print(M33_Total_Mass)"
   ]
  },
  {
   "cell_type": "code",
   "execution_count": 15,
   "id": "499fa988-b183-4c69-af73-71c2a54b1c86",
   "metadata": {},
   "outputs": [
    {
     "name": "stdout",
     "output_type": "stream",
     "text": [
      "0.046\n"
     ]
    }
   ],
   "source": [
    "M33_f_bar = np.round((M33_Bulge_Mass + M33_Disk_Mass)/M33_Total_Mass, 3)\n",
    "print(M33_f_bar)"
   ]
  },
  {
   "cell_type": "markdown",
   "id": "05107914-3178-4d62-a7a2-100731d6b8eb",
   "metadata": {},
   "source": [
    "# Local Group Table"
   ]
  },
  {
   "cell_type": "code",
   "execution_count": 17,
   "id": "9f7244e7-be1d-4b7f-832f-ee91db3c70b6",
   "metadata": {},
   "outputs": [
    {
     "data": {
      "text/html": [
       "<div><i>Table length=3</i>\n",
       "<table id=\"table2805478040720\" class=\"table-striped table-bordered table-condensed\">\n",
       "<thead><tr><th>Galaxy Name</th><th>Halo Mass</th><th>Disk Mass</th><th>Bulge Mass</th><th>Total Mass</th><th>f_bar</th></tr></thead>\n",
       "<thead><tr><th>str9</th><th>float64</th><th>float64</th><th>float64</th><th>float64</th><th>float64</th></tr></thead>\n",
       "<tr><td>Milky Way</td><td>1.975</td><td>0.075</td><td>0.01</td><td>2.06</td><td>0.041</td></tr>\n",
       "<tr><td>M31</td><td>1.921</td><td>0.12</td><td>0.019</td><td>2.06</td><td>0.067</td></tr>\n",
       "<tr><td>M33</td><td>0.187</td><td>0.009</td><td>0.0</td><td>0.196</td><td>0.046</td></tr>\n",
       "</table></div>"
      ],
      "text/plain": [
       "<Table length=3>\n",
       "Galaxy Name Halo Mass Disk Mass Bulge Mass Total Mass  f_bar \n",
       "    str9     float64   float64   float64    float64   float64\n",
       "----------- --------- --------- ---------- ---------- -------\n",
       "  Milky Way     1.975     0.075       0.01       2.06   0.041\n",
       "        M31     1.921      0.12      0.019       2.06   0.067\n",
       "        M33     0.187     0.009        0.0      0.196   0.046"
      ]
     },
     "execution_count": 17,
     "metadata": {},
     "output_type": "execute_result"
    }
   ],
   "source": [
    "t = Table()\n",
    "t[\"Galaxy Name\"] = [\"Milky Way\", \"M31\", \"M33\"]\n",
    "t[\"Halo Mass\"] = np.array([MW_Halo_Mass, M31_Halo_Mass, M33_Halo_Mass]) # * u.Msun * 1e12 \n",
    "t[\"Disk Mass\"] = np.array([MW_Disk_Mass, M31_Disk_Mass, M33_Disk_Mass]) # * u.Msun * 1e12 \n",
    "t[\"Bulge Mass\"] = np.array([MW_Bulge_Mass, M31_Bulge_Mass, M33_Bulge_Mass]) # * u.Msun * 1e12\n",
    "t[\"Total Mass\"] = t[\"Halo Mass\"] + t[\"Disk Mass\"] + t[\"Bulge Mass\"]\n",
    "t[\"f_bar\"] = np.round((t[\"Disk Mass\"] + t[\"Bulge Mass\"])/t[\"Total Mass\"], 3)\n",
    "t"
   ]
  },
  {
   "cell_type": "code",
   "execution_count": 21,
   "id": "e7866096-82cf-4eb1-a69e-9e4b1b396da8",
   "metadata": {},
   "outputs": [],
   "source": [
    "data = {\"Galaxy Name\" : [\"Milky Way\", \"M31\", \"M33\"],\n",
    "        \"Halo Mass\" : np.array([MW_Halo_Mass, M31_Halo_Mass, M33_Halo_Mass]), # * u.Msun * 1e12 \n",
    "        \"Disk Mass\" : np.array([MW_Disk_Mass, M31_Disk_Mass, M33_Disk_Mass]), # * u.Msun * 1e12 \n",
    "        \"Bulge Mass\" : np.array([MW_Bulge_Mass, M31_Bulge_Mass, M33_Bulge_Mass]), # * u.Msun * 1e12\n",
    "}\n",
    "\n",
    "data[\"Total Mass\"] = data[\"Halo Mass\"] + data[\"Disk Mass\"] + data[\"Bulge Mass\"]\n",
    "data[\"f_bar\"] = np.round((data[\"Disk Mass\"] + data[\"Bulge Mass\"])/data[\"Total Mass\"], 3)"
   ]
  },
  {
   "cell_type": "code",
   "execution_count": 25,
   "id": "1189b760-e97d-4fcb-bc34-27bc3fbc2fe3",
   "metadata": {},
   "outputs": [],
   "source": [
    "df = pd.DataFrame(data)"
   ]
  },
  {
   "cell_type": "code",
   "execution_count": 27,
   "id": "809620d1-4c44-4558-8473-4a519b5e53a9",
   "metadata": {},
   "outputs": [
    {
     "data": {
      "text/html": [
       "<div>\n",
       "<style scoped>\n",
       "    .dataframe tbody tr th:only-of-type {\n",
       "        vertical-align: middle;\n",
       "    }\n",
       "\n",
       "    .dataframe tbody tr th {\n",
       "        vertical-align: top;\n",
       "    }\n",
       "\n",
       "    .dataframe thead th {\n",
       "        text-align: right;\n",
       "    }\n",
       "</style>\n",
       "<table border=\"1\" class=\"dataframe\">\n",
       "  <thead>\n",
       "    <tr style=\"text-align: right;\">\n",
       "      <th></th>\n",
       "      <th>Galaxy Name</th>\n",
       "      <th>Halo Mass</th>\n",
       "      <th>Disk Mass</th>\n",
       "      <th>Bulge Mass</th>\n",
       "      <th>Total Mass</th>\n",
       "      <th>f_bar</th>\n",
       "    </tr>\n",
       "  </thead>\n",
       "  <tbody>\n",
       "    <tr>\n",
       "      <th>0</th>\n",
       "      <td>Milky Way</td>\n",
       "      <td>1.975</td>\n",
       "      <td>0.075</td>\n",
       "      <td>0.010</td>\n",
       "      <td>2.060</td>\n",
       "      <td>0.041</td>\n",
       "    </tr>\n",
       "    <tr>\n",
       "      <th>1</th>\n",
       "      <td>M31</td>\n",
       "      <td>1.921</td>\n",
       "      <td>0.120</td>\n",
       "      <td>0.019</td>\n",
       "      <td>2.060</td>\n",
       "      <td>0.067</td>\n",
       "    </tr>\n",
       "    <tr>\n",
       "      <th>2</th>\n",
       "      <td>M33</td>\n",
       "      <td>0.187</td>\n",
       "      <td>0.009</td>\n",
       "      <td>0.000</td>\n",
       "      <td>0.196</td>\n",
       "      <td>0.046</td>\n",
       "    </tr>\n",
       "  </tbody>\n",
       "</table>\n",
       "</div>"
      ],
      "text/plain": [
       "  Galaxy Name  Halo Mass  Disk Mass  Bulge Mass  Total Mass  f_bar\n",
       "0   Milky Way      1.975      0.075       0.010       2.060  0.041\n",
       "1         M31      1.921      0.120       0.019       2.060  0.067\n",
       "2         M33      0.187      0.009       0.000       0.196  0.046"
      ]
     },
     "execution_count": 27,
     "metadata": {},
     "output_type": "execute_result"
    }
   ],
   "source": [
    "df"
   ]
  },
  {
   "cell_type": "code",
   "execution_count": 30,
   "id": "a9895530-d878-4fb9-b518-978eb1f21b31",
   "metadata": {},
   "outputs": [],
   "source": [
    "df.to_latex(\"Table2.tex\", index=False)"
   ]
  }
 ],
 "metadata": {
  "kernelspec": {
   "display_name": "Python 3 (ipykernel)",
   "language": "python",
   "name": "python3"
  },
  "language_info": {
   "codemirror_mode": {
    "name": "ipython",
    "version": 3
   },
   "file_extension": ".py",
   "mimetype": "text/x-python",
   "name": "python",
   "nbconvert_exporter": "python",
   "pygments_lexer": "ipython3",
   "version": "3.13.2"
  }
 },
 "nbformat": 4,
 "nbformat_minor": 5
}
