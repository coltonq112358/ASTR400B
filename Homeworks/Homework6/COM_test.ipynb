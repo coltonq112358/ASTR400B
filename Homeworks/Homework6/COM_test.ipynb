{
 "cells": [
  {
   "cell_type": "code",
   "execution_count": 1,
   "id": "5b8ec491-700e-4bdb-bd96-4beebf3124e8",
   "metadata": {},
   "outputs": [],
   "source": [
    "import numpy as np\n",
    "from CenterOfMass2 import CenterOfMass"
   ]
  },
  {
   "cell_type": "code",
   "execution_count": 20,
   "id": "1bd601d5-ebd9-47c0-b0c5-e4e890abd740",
   "metadata": {},
   "outputs": [],
   "source": [
    "galaxy = 'M33'\n",
    "snap_id = 10\n",
    "filename = f\"VLowRes/{galaxy}/{galaxy}_{snap_id:03}.txt\""
   ]
  },
  {
   "cell_type": "code",
   "execution_count": 21,
   "id": "fc64672f-4fc6-424a-9e13-32ba003dfd64",
   "metadata": {},
   "outputs": [],
   "source": [
    "COM = CenterOfMass(filename, 2)"
   ]
  },
  {
   "cell_type": "code",
   "execution_count": 22,
   "id": "a76b69ef-b0e7-4c3f-9c16-6b027de3ac90",
   "metadata": {},
   "outputs": [
    {
     "data": {
      "text/latex": [
       "$[{\\rm NaN},~{\\rm NaN},~{\\rm NaN}] \\; \\mathrm{kpc}$"
      ],
      "text/plain": [
       "<Quantity [nan, nan, nan] kpc>"
      ]
     },
     "execution_count": 22,
     "metadata": {},
     "output_type": "execute_result"
    }
   ],
   "source": [
    "COM_P = COM.COM_P(0.1, 4.0)\n",
    "COM_P"
   ]
  },
  {
   "cell_type": "code",
   "execution_count": 16,
   "id": "58f59982-c3d0-4fb9-93ff-099ba3c36e54",
   "metadata": {},
   "outputs": [],
   "source": [
    "snap_ids = np.arange(0, 20+1, 5)"
   ]
  },
  {
   "cell_type": "code",
   "execution_count": 19,
   "id": "78774dd3-d44e-4834-ba2c-7facf31ab6fc",
   "metadata": {},
   "outputs": [
    {
     "name": "stdout",
     "output_type": "stream",
     "text": [
      "0 [-476.24  491.43 -412.43] kpc\n",
      "5 [-472.95  498.96 -402.  ] kpc\n",
      "10 [nan nan nan] kpc\n",
      "15 [-464.67  514.79 -380.62] kpc\n",
      "20 [-460.02  523.45 -368.48] kpc\n"
     ]
    }
   ],
   "source": [
    "galaxy = 'M33'\n",
    "for snap_id in snap_ids:\n",
    "    filename = f\"VLowRes/{galaxy}/{galaxy}_{snap_id:03}.txt\"\n",
    "    COM = CenterOfMass(filename, 2)\n",
    "    COM_P = COM.COM_P(0.1, 4.0)\n",
    "    print(snap_id, COM_P)"
   ]
  }
 ],
 "metadata": {
  "kernelspec": {
   "display_name": "Python 3 (ipykernel)",
   "language": "python",
   "name": "python3"
  },
  "language_info": {
   "codemirror_mode": {
    "name": "ipython",
    "version": 3
   },
   "file_extension": ".py",
   "mimetype": "text/x-python",
   "name": "python",
   "nbconvert_exporter": "python",
   "pygments_lexer": "ipython3",
   "version": "3.13.2"
  }
 },
 "nbformat": 4,
 "nbformat_minor": 5
}
